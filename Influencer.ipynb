{
  "nbformat": 4,
  "nbformat_minor": 0,
  "metadata": {
    "colab": {
      "provenance": []
    },
    "kernelspec": {
      "name": "python3",
      "display_name": "Python 3"
    },
    "language_info": {
      "name": "python"
    }
  },
  "cells": [
    {
      "cell_type": "code",
      "execution_count": 1,
      "metadata": {
        "colab": {
          "base_uri": "https://localhost:8080/",
          "height": 206
        },
        "id": "Gnj5sscjdPmY",
        "outputId": "53de8d95-a55e-4d91-c30d-30ee8a7931a0"
      },
      "outputs": [
        {
          "output_type": "execute_result",
          "data": {
            "text/plain": [
              "   Rank   Channel Info  Influence Score Followers Avg. Likes Posts  \\\n",
              "0     1    \\ncristiano               92    485.2m       8.7m  3.4k   \n",
              "1     2    kyliejenner               91    370.7m       8.2m  7.0k   \n",
              "2     3     \\nleomessi               90    363.9m       6.7m   915   \n",
              "3     4  \\nselenagomez               93    348.8m       6.1m  1.9k   \n",
              "4     5      \\ntherock               91    339.4m       1.8m  6.8k   \n",
              "\n",
              "   60-Day Eng Rate New Post Avg. Likes Total Likes Country Or Region  \n",
              "0            0.013                6.3m       29.1b             Spain  \n",
              "1            0.014                5.0m       57.4b     United States  \n",
              "2            0.010                3.5m        6.1b               NaN  \n",
              "3            0.005                1.7m       11.4b     United States  \n",
              "4            0.003              932.0k       12.6b     United States  "
            ],
            "text/html": [
              "\n",
              "  <div id=\"df-0a8241d4-0db2-44ed-a295-406f342aa964\">\n",
              "    <div class=\"colab-df-container\">\n",
              "      <div>\n",
              "<style scoped>\n",
              "    .dataframe tbody tr th:only-of-type {\n",
              "        vertical-align: middle;\n",
              "    }\n",
              "\n",
              "    .dataframe tbody tr th {\n",
              "        vertical-align: top;\n",
              "    }\n",
              "\n",
              "    .dataframe thead th {\n",
              "        text-align: right;\n",
              "    }\n",
              "</style>\n",
              "<table border=\"1\" class=\"dataframe\">\n",
              "  <thead>\n",
              "    <tr style=\"text-align: right;\">\n",
              "      <th></th>\n",
              "      <th>Rank</th>\n",
              "      <th>Channel Info</th>\n",
              "      <th>Influence Score</th>\n",
              "      <th>Followers</th>\n",
              "      <th>Avg. Likes</th>\n",
              "      <th>Posts</th>\n",
              "      <th>60-Day Eng Rate</th>\n",
              "      <th>New Post Avg. Likes</th>\n",
              "      <th>Total Likes</th>\n",
              "      <th>Country Or Region</th>\n",
              "    </tr>\n",
              "  </thead>\n",
              "  <tbody>\n",
              "    <tr>\n",
              "      <th>0</th>\n",
              "      <td>1</td>\n",
              "      <td>\\ncristiano</td>\n",
              "      <td>92</td>\n",
              "      <td>485.2m</td>\n",
              "      <td>8.7m</td>\n",
              "      <td>3.4k</td>\n",
              "      <td>0.013</td>\n",
              "      <td>6.3m</td>\n",
              "      <td>29.1b</td>\n",
              "      <td>Spain</td>\n",
              "    </tr>\n",
              "    <tr>\n",
              "      <th>1</th>\n",
              "      <td>2</td>\n",
              "      <td>kyliejenner</td>\n",
              "      <td>91</td>\n",
              "      <td>370.7m</td>\n",
              "      <td>8.2m</td>\n",
              "      <td>7.0k</td>\n",
              "      <td>0.014</td>\n",
              "      <td>5.0m</td>\n",
              "      <td>57.4b</td>\n",
              "      <td>United States</td>\n",
              "    </tr>\n",
              "    <tr>\n",
              "      <th>2</th>\n",
              "      <td>3</td>\n",
              "      <td>\\nleomessi</td>\n",
              "      <td>90</td>\n",
              "      <td>363.9m</td>\n",
              "      <td>6.7m</td>\n",
              "      <td>915</td>\n",
              "      <td>0.010</td>\n",
              "      <td>3.5m</td>\n",
              "      <td>6.1b</td>\n",
              "      <td>NaN</td>\n",
              "    </tr>\n",
              "    <tr>\n",
              "      <th>3</th>\n",
              "      <td>4</td>\n",
              "      <td>\\nselenagomez</td>\n",
              "      <td>93</td>\n",
              "      <td>348.8m</td>\n",
              "      <td>6.1m</td>\n",
              "      <td>1.9k</td>\n",
              "      <td>0.005</td>\n",
              "      <td>1.7m</td>\n",
              "      <td>11.4b</td>\n",
              "      <td>United States</td>\n",
              "    </tr>\n",
              "    <tr>\n",
              "      <th>4</th>\n",
              "      <td>5</td>\n",
              "      <td>\\ntherock</td>\n",
              "      <td>91</td>\n",
              "      <td>339.4m</td>\n",
              "      <td>1.8m</td>\n",
              "      <td>6.8k</td>\n",
              "      <td>0.003</td>\n",
              "      <td>932.0k</td>\n",
              "      <td>12.6b</td>\n",
              "      <td>United States</td>\n",
              "    </tr>\n",
              "  </tbody>\n",
              "</table>\n",
              "</div>\n",
              "      <button class=\"colab-df-convert\" onclick=\"convertToInteractive('df-0a8241d4-0db2-44ed-a295-406f342aa964')\"\n",
              "              title=\"Convert this dataframe to an interactive table.\"\n",
              "              style=\"display:none;\">\n",
              "        \n",
              "  <svg xmlns=\"http://www.w3.org/2000/svg\" height=\"24px\"viewBox=\"0 0 24 24\"\n",
              "       width=\"24px\">\n",
              "    <path d=\"M0 0h24v24H0V0z\" fill=\"none\"/>\n",
              "    <path d=\"M18.56 5.44l.94 2.06.94-2.06 2.06-.94-2.06-.94-.94-2.06-.94 2.06-2.06.94zm-11 1L8.5 8.5l.94-2.06 2.06-.94-2.06-.94L8.5 2.5l-.94 2.06-2.06.94zm10 10l.94 2.06.94-2.06 2.06-.94-2.06-.94-.94-2.06-.94 2.06-2.06.94z\"/><path d=\"M17.41 7.96l-1.37-1.37c-.4-.4-.92-.59-1.43-.59-.52 0-1.04.2-1.43.59L10.3 9.45l-7.72 7.72c-.78.78-.78 2.05 0 2.83L4 21.41c.39.39.9.59 1.41.59.51 0 1.02-.2 1.41-.59l7.78-7.78 2.81-2.81c.8-.78.8-2.07 0-2.86zM5.41 20L4 18.59l7.72-7.72 1.47 1.35L5.41 20z\"/>\n",
              "  </svg>\n",
              "      </button>\n",
              "      \n",
              "  <style>\n",
              "    .colab-df-container {\n",
              "      display:flex;\n",
              "      flex-wrap:wrap;\n",
              "      gap: 12px;\n",
              "    }\n",
              "\n",
              "    .colab-df-convert {\n",
              "      background-color: #E8F0FE;\n",
              "      border: none;\n",
              "      border-radius: 50%;\n",
              "      cursor: pointer;\n",
              "      display: none;\n",
              "      fill: #1967D2;\n",
              "      height: 32px;\n",
              "      padding: 0 0 0 0;\n",
              "      width: 32px;\n",
              "    }\n",
              "\n",
              "    .colab-df-convert:hover {\n",
              "      background-color: #E2EBFA;\n",
              "      box-shadow: 0px 1px 2px rgba(60, 64, 67, 0.3), 0px 1px 3px 1px rgba(60, 64, 67, 0.15);\n",
              "      fill: #174EA6;\n",
              "    }\n",
              "\n",
              "    [theme=dark] .colab-df-convert {\n",
              "      background-color: #3B4455;\n",
              "      fill: #D2E3FC;\n",
              "    }\n",
              "\n",
              "    [theme=dark] .colab-df-convert:hover {\n",
              "      background-color: #434B5C;\n",
              "      box-shadow: 0px 1px 3px 1px rgba(0, 0, 0, 0.15);\n",
              "      filter: drop-shadow(0px 1px 2px rgba(0, 0, 0, 0.3));\n",
              "      fill: #FFFFFF;\n",
              "    }\n",
              "  </style>\n",
              "\n",
              "      <script>\n",
              "        const buttonEl =\n",
              "          document.querySelector('#df-0a8241d4-0db2-44ed-a295-406f342aa964 button.colab-df-convert');\n",
              "        buttonEl.style.display =\n",
              "          google.colab.kernel.accessAllowed ? 'block' : 'none';\n",
              "\n",
              "        async function convertToInteractive(key) {\n",
              "          const element = document.querySelector('#df-0a8241d4-0db2-44ed-a295-406f342aa964');\n",
              "          const dataTable =\n",
              "            await google.colab.kernel.invokeFunction('convertToInteractive',\n",
              "                                                     [key], {});\n",
              "          if (!dataTable) return;\n",
              "\n",
              "          const docLinkHtml = 'Like what you see? Visit the ' +\n",
              "            '<a target=\"_blank\" href=https://colab.research.google.com/notebooks/data_table.ipynb>data table notebook</a>'\n",
              "            + ' to learn more about interactive tables.';\n",
              "          element.innerHTML = '';\n",
              "          dataTable['output_type'] = 'display_data';\n",
              "          await google.colab.output.renderOutput(dataTable, element);\n",
              "          const docLink = document.createElement('div');\n",
              "          docLink.innerHTML = docLinkHtml;\n",
              "          element.appendChild(docLink);\n",
              "        }\n",
              "      </script>\n",
              "    </div>\n",
              "  </div>\n",
              "  "
            ]
          },
          "metadata": {},
          "execution_count": 1
        }
      ],
      "source": [
        "import pandas as pd\n",
        "influencer=pd.read_excel(\"Influencer.xlsx\")\n",
        "influencer.head()"
      ]
    },
    {
      "cell_type": "code",
      "source": [
        "influencer.isna().sum()"
      ],
      "metadata": {
        "colab": {
          "base_uri": "https://localhost:8080/"
        },
        "id": "16ZZQbzUdoX0",
        "outputId": "eddbc59b-55a8-45b3-86c0-46533d91865c"
      },
      "execution_count": 2,
      "outputs": [
        {
          "output_type": "execute_result",
          "data": {
            "text/plain": [
              "Rank                    0\n",
              "Channel Info            0\n",
              "Influence Score         0\n",
              "Followers               0\n",
              "Avg. Likes              0\n",
              "Posts                   0\n",
              "60-Day Eng Rate         0\n",
              "New Post Avg. Likes     0\n",
              "Total Likes             0\n",
              "Country Or Region      63\n",
              "dtype: int64"
            ]
          },
          "metadata": {},
          "execution_count": 2
        }
      ]
    },
    {
      "cell_type": "code",
      "source": [
        "influencer=influencer.fillna(\"Unknown\")"
      ],
      "metadata": {
        "id": "-qGFU7TGdvAz"
      },
      "execution_count": 3,
      "outputs": []
    },
    {
      "cell_type": "code",
      "source": [
        "influencer.head()"
      ],
      "metadata": {
        "colab": {
          "base_uri": "https://localhost:8080/",
          "height": 206
        },
        "id": "6SOv5UZsd5j7",
        "outputId": "8984b44b-5dde-478b-c2e7-f856231f29b9"
      },
      "execution_count": 4,
      "outputs": [
        {
          "output_type": "execute_result",
          "data": {
            "text/plain": [
              "   Rank   Channel Info  Influence Score Followers Avg. Likes Posts  \\\n",
              "0     1    \\ncristiano               92    485.2m       8.7m  3.4k   \n",
              "1     2    kyliejenner               91    370.7m       8.2m  7.0k   \n",
              "2     3     \\nleomessi               90    363.9m       6.7m   915   \n",
              "3     4  \\nselenagomez               93    348.8m       6.1m  1.9k   \n",
              "4     5      \\ntherock               91    339.4m       1.8m  6.8k   \n",
              "\n",
              "   60-Day Eng Rate New Post Avg. Likes Total Likes Country Or Region  \n",
              "0            0.013                6.3m       29.1b             Spain  \n",
              "1            0.014                5.0m       57.4b     United States  \n",
              "2            0.010                3.5m        6.1b           Unknown  \n",
              "3            0.005                1.7m       11.4b     United States  \n",
              "4            0.003              932.0k       12.6b     United States  "
            ],
            "text/html": [
              "\n",
              "  <div id=\"df-cf17a3f3-dbd8-4c16-ab6b-7c25049c374e\">\n",
              "    <div class=\"colab-df-container\">\n",
              "      <div>\n",
              "<style scoped>\n",
              "    .dataframe tbody tr th:only-of-type {\n",
              "        vertical-align: middle;\n",
              "    }\n",
              "\n",
              "    .dataframe tbody tr th {\n",
              "        vertical-align: top;\n",
              "    }\n",
              "\n",
              "    .dataframe thead th {\n",
              "        text-align: right;\n",
              "    }\n",
              "</style>\n",
              "<table border=\"1\" class=\"dataframe\">\n",
              "  <thead>\n",
              "    <tr style=\"text-align: right;\">\n",
              "      <th></th>\n",
              "      <th>Rank</th>\n",
              "      <th>Channel Info</th>\n",
              "      <th>Influence Score</th>\n",
              "      <th>Followers</th>\n",
              "      <th>Avg. Likes</th>\n",
              "      <th>Posts</th>\n",
              "      <th>60-Day Eng Rate</th>\n",
              "      <th>New Post Avg. Likes</th>\n",
              "      <th>Total Likes</th>\n",
              "      <th>Country Or Region</th>\n",
              "    </tr>\n",
              "  </thead>\n",
              "  <tbody>\n",
              "    <tr>\n",
              "      <th>0</th>\n",
              "      <td>1</td>\n",
              "      <td>\\ncristiano</td>\n",
              "      <td>92</td>\n",
              "      <td>485.2m</td>\n",
              "      <td>8.7m</td>\n",
              "      <td>3.4k</td>\n",
              "      <td>0.013</td>\n",
              "      <td>6.3m</td>\n",
              "      <td>29.1b</td>\n",
              "      <td>Spain</td>\n",
              "    </tr>\n",
              "    <tr>\n",
              "      <th>1</th>\n",
              "      <td>2</td>\n",
              "      <td>kyliejenner</td>\n",
              "      <td>91</td>\n",
              "      <td>370.7m</td>\n",
              "      <td>8.2m</td>\n",
              "      <td>7.0k</td>\n",
              "      <td>0.014</td>\n",
              "      <td>5.0m</td>\n",
              "      <td>57.4b</td>\n",
              "      <td>United States</td>\n",
              "    </tr>\n",
              "    <tr>\n",
              "      <th>2</th>\n",
              "      <td>3</td>\n",
              "      <td>\\nleomessi</td>\n",
              "      <td>90</td>\n",
              "      <td>363.9m</td>\n",
              "      <td>6.7m</td>\n",
              "      <td>915</td>\n",
              "      <td>0.010</td>\n",
              "      <td>3.5m</td>\n",
              "      <td>6.1b</td>\n",
              "      <td>Unknown</td>\n",
              "    </tr>\n",
              "    <tr>\n",
              "      <th>3</th>\n",
              "      <td>4</td>\n",
              "      <td>\\nselenagomez</td>\n",
              "      <td>93</td>\n",
              "      <td>348.8m</td>\n",
              "      <td>6.1m</td>\n",
              "      <td>1.9k</td>\n",
              "      <td>0.005</td>\n",
              "      <td>1.7m</td>\n",
              "      <td>11.4b</td>\n",
              "      <td>United States</td>\n",
              "    </tr>\n",
              "    <tr>\n",
              "      <th>4</th>\n",
              "      <td>5</td>\n",
              "      <td>\\ntherock</td>\n",
              "      <td>91</td>\n",
              "      <td>339.4m</td>\n",
              "      <td>1.8m</td>\n",
              "      <td>6.8k</td>\n",
              "      <td>0.003</td>\n",
              "      <td>932.0k</td>\n",
              "      <td>12.6b</td>\n",
              "      <td>United States</td>\n",
              "    </tr>\n",
              "  </tbody>\n",
              "</table>\n",
              "</div>\n",
              "      <button class=\"colab-df-convert\" onclick=\"convertToInteractive('df-cf17a3f3-dbd8-4c16-ab6b-7c25049c374e')\"\n",
              "              title=\"Convert this dataframe to an interactive table.\"\n",
              "              style=\"display:none;\">\n",
              "        \n",
              "  <svg xmlns=\"http://www.w3.org/2000/svg\" height=\"24px\"viewBox=\"0 0 24 24\"\n",
              "       width=\"24px\">\n",
              "    <path d=\"M0 0h24v24H0V0z\" fill=\"none\"/>\n",
              "    <path d=\"M18.56 5.44l.94 2.06.94-2.06 2.06-.94-2.06-.94-.94-2.06-.94 2.06-2.06.94zm-11 1L8.5 8.5l.94-2.06 2.06-.94-2.06-.94L8.5 2.5l-.94 2.06-2.06.94zm10 10l.94 2.06.94-2.06 2.06-.94-2.06-.94-.94-2.06-.94 2.06-2.06.94z\"/><path d=\"M17.41 7.96l-1.37-1.37c-.4-.4-.92-.59-1.43-.59-.52 0-1.04.2-1.43.59L10.3 9.45l-7.72 7.72c-.78.78-.78 2.05 0 2.83L4 21.41c.39.39.9.59 1.41.59.51 0 1.02-.2 1.41-.59l7.78-7.78 2.81-2.81c.8-.78.8-2.07 0-2.86zM5.41 20L4 18.59l7.72-7.72 1.47 1.35L5.41 20z\"/>\n",
              "  </svg>\n",
              "      </button>\n",
              "      \n",
              "  <style>\n",
              "    .colab-df-container {\n",
              "      display:flex;\n",
              "      flex-wrap:wrap;\n",
              "      gap: 12px;\n",
              "    }\n",
              "\n",
              "    .colab-df-convert {\n",
              "      background-color: #E8F0FE;\n",
              "      border: none;\n",
              "      border-radius: 50%;\n",
              "      cursor: pointer;\n",
              "      display: none;\n",
              "      fill: #1967D2;\n",
              "      height: 32px;\n",
              "      padding: 0 0 0 0;\n",
              "      width: 32px;\n",
              "    }\n",
              "\n",
              "    .colab-df-convert:hover {\n",
              "      background-color: #E2EBFA;\n",
              "      box-shadow: 0px 1px 2px rgba(60, 64, 67, 0.3), 0px 1px 3px 1px rgba(60, 64, 67, 0.15);\n",
              "      fill: #174EA6;\n",
              "    }\n",
              "\n",
              "    [theme=dark] .colab-df-convert {\n",
              "      background-color: #3B4455;\n",
              "      fill: #D2E3FC;\n",
              "    }\n",
              "\n",
              "    [theme=dark] .colab-df-convert:hover {\n",
              "      background-color: #434B5C;\n",
              "      box-shadow: 0px 1px 3px 1px rgba(0, 0, 0, 0.15);\n",
              "      filter: drop-shadow(0px 1px 2px rgba(0, 0, 0, 0.3));\n",
              "      fill: #FFFFFF;\n",
              "    }\n",
              "  </style>\n",
              "\n",
              "      <script>\n",
              "        const buttonEl =\n",
              "          document.querySelector('#df-cf17a3f3-dbd8-4c16-ab6b-7c25049c374e button.colab-df-convert');\n",
              "        buttonEl.style.display =\n",
              "          google.colab.kernel.accessAllowed ? 'block' : 'none';\n",
              "\n",
              "        async function convertToInteractive(key) {\n",
              "          const element = document.querySelector('#df-cf17a3f3-dbd8-4c16-ab6b-7c25049c374e');\n",
              "          const dataTable =\n",
              "            await google.colab.kernel.invokeFunction('convertToInteractive',\n",
              "                                                     [key], {});\n",
              "          if (!dataTable) return;\n",
              "\n",
              "          const docLinkHtml = 'Like what you see? Visit the ' +\n",
              "            '<a target=\"_blank\" href=https://colab.research.google.com/notebooks/data_table.ipynb>data table notebook</a>'\n",
              "            + ' to learn more about interactive tables.';\n",
              "          element.innerHTML = '';\n",
              "          dataTable['output_type'] = 'display_data';\n",
              "          await google.colab.output.renderOutput(dataTable, element);\n",
              "          const docLink = document.createElement('div');\n",
              "          docLink.innerHTML = docLinkHtml;\n",
              "          element.appendChild(docLink);\n",
              "        }\n",
              "      </script>\n",
              "    </div>\n",
              "  </div>\n",
              "  "
            ]
          },
          "metadata": {},
          "execution_count": 4
        }
      ]
    },
    {
      "cell_type": "code",
      "source": [
        "import seaborn  \n",
        "import matplotlib. pyplot as pt  \n",
        "correlation =influencer.corr()  \n",
        "heatmap = seaborn. heatmap(correlation, annot = True)  \n",
        "heatmap.set (xlabel = 'Influencer values on x axis',ylabel = 'Influencer values on y axis\\t', title = \"Correlation matrix of Influencer dataset\\n\")  \n",
        "pt. show () "
      ],
      "metadata": {
        "colab": {
          "base_uri": "https://localhost:8080/",
          "height": 383
        },
        "id": "Tyzxt6iFe9NC",
        "outputId": "f870dd3b-7d63-4c45-a017-7e0128ebdd05"
      },
      "execution_count": 5,
      "outputs": [
        {
          "output_type": "stream",
          "name": "stderr",
          "text": [
            "/usr/local/lib/python3.8/dist-packages/matplotlib/backends/backend_agg.py:214: RuntimeWarning: Glyph 9 missing from current font.\n",
            "  font.set_text(s, 0.0, flags=flags)\n",
            "/usr/local/lib/python3.8/dist-packages/matplotlib/backends/backend_agg.py:183: RuntimeWarning: Glyph 9 missing from current font.\n",
            "  font.set_text(s, 0, flags=flags)\n"
          ]
        },
        {
          "output_type": "display_data",
          "data": {
            "text/plain": [
              "<Figure size 432x288 with 2 Axes>"
            ],
            "image/png": "[encoded data removed]"
          },
          "metadata": {
            "needs_background": "light"
          }
        }
      ]
    },
    {
      "cell_type": "code",
      "source": [
        "influencer['Influence Score'].value_counts(sort=False).plot(kind='barh')"
      ],
      "metadata": {
        "colab": {
          "base_uri": "https://localhost:8080/",
          "height": 284
        },
        "id": "EvKHotUpgfzB",
        "outputId": "6d43e848-0d44-422b-9310-fe08f0f92e6b"
      },
      "execution_count": 7,
      "outputs": [
        {
          "output_type": "execute_result",
          "data": {
            "text/plain": [
              "<matplotlib.axes._subplots.AxesSubplot at 0x7f8989e31c10>"
            ]
          },
          "metadata": {},
          "execution_count": 7
        },
        {
          "output_type": "display_data",
          "data": {
            "text/plain": [
              "<Figure size 432x288 with 1 Axes>"
            ],
            "image/png": "[encoded data removed]"
          },
          "metadata": {
            "needs_background": "light"
          }
        }
      ]
    },
    {
      "cell_type": "code",
      "source": [
        "influencer['Followers'].value_counts(sort=False).plot(kind='barh')"
      ],
      "metadata": {
        "colab": {
          "base_uri": "https://localhost:8080/",
          "height": 287
        },
        "id": "daeRscJypEH2",
        "outputId": "61f63c5a-8d19-4b00-c03d-6ff58190a5e6"
      },
      "execution_count": 8,
      "outputs": [
        {
          "output_type": "execute_result",
          "data": {
            "text/plain": [
              "<matplotlib.axes._subplots.AxesSubplot at 0x7f8989c121f0>"
            ]
          },
          "metadata": {},
          "execution_count": 8
        },
        {
          "output_type": "display_data",
          "data": {
            "text/plain": [
              "<Figure size 432x288 with 1 Axes>"
            ],
            "image/png": "[encoded data removed]"
          },
          "metadata": {
            "needs_background": "light"
          }
        }
      ]
    },
    {
      "cell_type": "code",
      "source": [
        "influencer['Posts'].value_counts(sort=False).plot(kind='barh')"
      ],
      "metadata": {
        "colab": {
          "base_uri": "https://localhost:8080/",
          "height": 286
        },
        "id": "SeRtPIixphgF",
        "outputId": "800e21cd-8237-43c8-c786-4846ad989b7b"
      },
      "execution_count": 9,
      "outputs": [
        {
          "output_type": "execute_result",
          "data": {
            "text/plain": [
              "<matplotlib.axes._subplots.AxesSubplot at 0x7f897f22d760>"
            ]
          },
          "metadata": {},
          "execution_count": 9
        },
        {
          "output_type": "display_data",
          "data": {
            "text/plain": [
              "<Figure size 432x288 with 1 Axes>"
            ],
            "image/png": "[encoded data removed]"
          },
          "metadata": {
            "needs_background": "light"
          }
        }
      ]
    },
    {
      "cell_type": "code",
      "source": [
        "influencer['Country Or Region'].value_counts(sort=False).plot(kind='bar')"
      ],
      "metadata": {
        "colab": {
          "base_uri": "https://localhost:8080/",
          "height": 380
        },
        "id": "25glKEaipwke",
        "outputId": "27ff2ec9-8268-42d6-dc50-e7061a3010f9"
      },
      "execution_count": 10,
      "outputs": [
        {
          "output_type": "execute_result",
          "data": {
            "text/plain": [
              "<matplotlib.axes._subplots.AxesSubplot at 0x7f897efb5640>"
            ]
          },
          "metadata": {},
          "execution_count": 10
        },
        {
          "output_type": "display_data",
          "data": {
            "text/plain": [
              "<Figure size 432x288 with 1 Axes>"
            ],
            "image/png": "[encoded data removed]"
          },
          "metadata": {
            "needs_background": "light"
          }
        }
      ]
    },
    {
      "cell_type": "code",
      "source": [
        "influencer.sort_values(by = ['Followers', 'Avg. Likes','Total Likes'], ascending = [False, False,False], na_position = 'first').head(10)"
      ],
      "metadata": {
        "colab": {
          "base_uri": "https://localhost:8080/",
          "height": 363
        },
        "id": "NaziFfdsp7lG",
        "outputId": "6e41f114-cbd4-4a00-b69b-da23bb521de3"
      },
      "execution_count": 15,
      "outputs": [
        {
          "output_type": "execute_result",
          "data": {
            "text/plain": [
              "    Rank      Channel Info  Influence Score Followers Avg. Likes  Posts  \\\n",
              "33    34       \\ngal_gadot               85     88.0m       1.4m   1.7k   \n",
              "34    35         \\ndualipa               74     87.3m       2.1m   1.3k   \n",
              "35    36       \\nvindiesel               88     83.2m       1.4m   1.8k   \n",
              "36    37            \\nnasa               88     83.1m       1.2m   3.6k   \n",
              "37    38  \\npriyankachopra               85     82.7m       1.6m   3.6k   \n",
              "38    39    \\nlalalalisa_m               70     82.6m       6.0m    893   \n",
              "39    40       \\nsnoopdogg               86     76.7m     211.4k  10.0k   \n",
              "40    41         \\nShakira               88     76.2m     976.1k   2.0k   \n",
              "41    42       \\ngigihadid               85     75.9m       2.4m   3.3k   \n",
              "42    43    \\ndavidbeckham               86     75.4m       1.2m   1.6k   \n",
              "\n",
              "    60-Day Eng Rate New Post Avg. Likes Total Likes Country Or Region  \n",
              "33            0.008              735.9k        2.3b     United States  \n",
              "34            0.017                1.5m        2.7b    United Kingdom  \n",
              "35            0.006              505.8k        2.5b     United States  \n",
              "36            0.014                1.1m        4.3b     United States  \n",
              "37            0.008              644.6k        5.6b     United States  \n",
              "38            0.088                7.2m        5.3b           Unknown  \n",
              "39            0.004              278.0k        2.1b           Unknown  \n",
              "40            0.004              281.8k        1.9b           Unknown  \n",
              "41            0.015                1.1m        7.9b     United States  \n",
              "42            0.007              517.7k        1.9b     United States  "
            ],
            "text/html": [
              "\n",
              "  <div id=\"df-2e2c564c-471d-42e6-85d0-e14809e8d85a\">\n",
              "    <div class=\"colab-df-container\">\n",
              "      <div>\n",
              "<style scoped>\n",
              "    .dataframe tbody tr th:only-of-type {\n",
              "        vertical-align: middle;\n",
              "    }\n",
              "\n",
              "    .dataframe tbody tr th {\n",
              "        vertical-align: top;\n",
              "    }\n",
              "\n",
              "    .dataframe thead th {\n",
              "        text-align: right;\n",
              "    }\n",
              "</style>\n",
              "<table border=\"1\" class=\"dataframe\">\n",
              "  <thead>\n",
              "    <tr style=\"text-align: right;\">\n",
              "      <th></th>\n",
              "      <th>Rank</th>\n",
              "      <th>Channel Info</th>\n",
              "      <th>Influence Score</th>\n",
              "      <th>Followers</th>\n",
              "      <th>Avg. Likes</th>\n",
              "      <th>Posts</th>\n",
              "      <th>60-Day Eng Rate</th>\n",
              "      <th>New Post Avg. Likes</th>\n",
              "      <th>Total Likes</th>\n",
              "      <th>Country Or Region</th>\n",
              "    </tr>\n",
              "  </thead>\n",
              "  <tbody>\n",
              "    <tr>\n",
              "      <th>33</th>\n",
              "      <td>34</td>\n",
              "      <td>\\ngal_gadot</td>\n",
              "      <td>85</td>\n",
              "      <td>88.0m</td>\n",
              "      <td>1.4m</td>\n",
              "      <td>1.7k</td>\n",
              "      <td>0.008</td>\n",
              "      <td>735.9k</td>\n",
              "      <td>2.3b</td>\n",
              "      <td>United States</td>\n",
              "    </tr>\n",
              "    <tr>\n",
              "      <th>34</th>\n",
              "      <td>35</td>\n",
              "      <td>\\ndualipa</td>\n",
              "      <td>74</td>\n",
              "      <td>87.3m</td>\n",
              "      <td>2.1m</td>\n",
              "      <td>1.3k</td>\n",
              "      <td>0.017</td>\n",
              "      <td>1.5m</td>\n",
              "      <td>2.7b</td>\n",
              "      <td>United Kingdom</td>\n",
              "    </tr>\n",
              "    <tr>\n",
              "      <th>35</th>\n",
              "      <td>36</td>\n",
              "      <td>\\nvindiesel</td>\n",
              "      <td>88</td>\n",
              "      <td>83.2m</td>\n",
              "      <td>1.4m</td>\n",
              "      <td>1.8k</td>\n",
              "      <td>0.006</td>\n",
              "      <td>505.8k</td>\n",
              "      <td>2.5b</td>\n",
              "      <td>United States</td>\n",
              "    </tr>\n",
              "    <tr>\n",
              "      <th>36</th>\n",
              "      <td>37</td>\n",
              "      <td>\\nnasa</td>\n",
              "      <td>88</td>\n",
              "      <td>83.1m</td>\n",
              "      <td>1.2m</td>\n",
              "      <td>3.6k</td>\n",
              "      <td>0.014</td>\n",
              "      <td>1.1m</td>\n",
              "      <td>4.3b</td>\n",
              "      <td>United States</td>\n",
              "    </tr>\n",
              "    <tr>\n",
              "      <th>37</th>\n",
              "      <td>38</td>\n",
              "      <td>\\npriyankachopra</td>\n",
              "      <td>85</td>\n",
              "      <td>82.7m</td>\n",
              "      <td>1.6m</td>\n",
              "      <td>3.6k</td>\n",
              "      <td>0.008</td>\n",
              "      <td>644.6k</td>\n",
              "      <td>5.6b</td>\n",
              "      <td>United States</td>\n",
              "    </tr>\n",
              "    <tr>\n",
              "      <th>38</th>\n",
              "      <td>39</td>\n",
              "      <td>\\nlalalalisa_m</td>\n",
              "      <td>70</td>\n",
              "      <td>82.6m</td>\n",
              "      <td>6.0m</td>\n",
              "      <td>893</td>\n",
              "      <td>0.088</td>\n",
              "      <td>7.2m</td>\n",
              "      <td>5.3b</td>\n",
              "      <td>Unknown</td>\n",
              "    </tr>\n",
              "    <tr>\n",
              "      <th>39</th>\n",
              "      <td>40</td>\n",
              "      <td>\\nsnoopdogg</td>\n",
              "      <td>86</td>\n",
              "      <td>76.7m</td>\n",
              "      <td>211.4k</td>\n",
              "      <td>10.0k</td>\n",
              "      <td>0.004</td>\n",
              "      <td>278.0k</td>\n",
              "      <td>2.1b</td>\n",
              "      <td>Unknown</td>\n",
              "    </tr>\n",
              "    <tr>\n",
              "      <th>40</th>\n",
              "      <td>41</td>\n",
              "      <td>\\nShakira</td>\n",
              "      <td>88</td>\n",
              "      <td>76.2m</td>\n",
              "      <td>976.1k</td>\n",
              "      <td>2.0k</td>\n",
              "      <td>0.004</td>\n",
              "      <td>281.8k</td>\n",
              "      <td>1.9b</td>\n",
              "      <td>Unknown</td>\n",
              "    </tr>\n",
              "    <tr>\n",
              "      <th>41</th>\n",
              "      <td>42</td>\n",
              "      <td>\\ngigihadid</td>\n",
              "      <td>85</td>\n",
              "      <td>75.9m</td>\n",
              "      <td>2.4m</td>\n",
              "      <td>3.3k</td>\n",
              "      <td>0.015</td>\n",
              "      <td>1.1m</td>\n",
              "      <td>7.9b</td>\n",
              "      <td>United States</td>\n",
              "    </tr>\n",
              "    <tr>\n",
              "      <th>42</th>\n",
              "      <td>43</td>\n",
              "      <td>\\ndavidbeckham</td>\n",
              "      <td>86</td>\n",
              "      <td>75.4m</td>\n",
              "      <td>1.2m</td>\n",
              "      <td>1.6k</td>\n",
              "      <td>0.007</td>\n",
              "      <td>517.7k</td>\n",
              "      <td>1.9b</td>\n",
              "      <td>United States</td>\n",
              "    </tr>\n",
              "  </tbody>\n",
              "</table>\n",
              "</div>\n",
              "      <button class=\"colab-df-convert\" onclick=\"convertToInteractive('df-2e2c564c-471d-42e6-85d0-e14809e8d85a')\"\n",
              "              title=\"Convert this dataframe to an interactive table.\"\n",
              "              style=\"display:none;\">\n",
              "        \n",
              "  <svg xmlns=\"http://www.w3.org/2000/svg\" height=\"24px\"viewBox=\"0 0 24 24\"\n",
              "       width=\"24px\">\n",
              "    <path d=\"M0 0h24v24H0V0z\" fill=\"none\"/>\n",
              "    <path d=\"M18.56 5.44l.94 2.06.94-2.06 2.06-.94-2.06-.94-.94-2.06-.94 2.06-2.06.94zm-11 1L8.5 8.5l.94-2.06 2.06-.94-2.06-.94L8.5 2.5l-.94 2.06-2.06.94zm10 10l.94 2.06.94-2.06 2.06-.94-2.06-.94-.94-2.06-.94 2.06-2.06.94z\"/><path d=\"M17.41 7.96l-1.37-1.37c-.4-.4-.92-.59-1.43-.59-.52 0-1.04.2-1.43.59L10.3 9.45l-7.72 7.72c-.78.78-.78 2.05 0 2.83L4 21.41c.39.39.9.59 1.41.59.51 0 1.02-.2 1.41-.59l7.78-7.78 2.81-2.81c.8-.78.8-2.07 0-2.86zM5.41 20L4 18.59l7.72-7.72 1.47 1.35L5.41 20z\"/>\n",
              "  </svg>\n",
              "      </button>\n",
              "      \n",
              "  <style>\n",
              "    .colab-df-container {\n",
              "      display:flex;\n",
              "      flex-wrap:wrap;\n",
              "      gap: 12px;\n",
              "    }\n",
              "\n",
              "    .colab-df-convert {\n",
              "      background-color: #E8F0FE;\n",
              "      border: none;\n",
              "      border-radius: 50%;\n",
              "      cursor: pointer;\n",
              "      display: none;\n",
              "      fill: #1967D2;\n",
              "      height: 32px;\n",
              "      padding: 0 0 0 0;\n",
              "      width: 32px;\n",
              "    }\n",
              "\n",
              "    .colab-df-convert:hover {\n",
              "      background-color: #E2EBFA;\n",
              "      box-shadow: 0px 1px 2px rgba(60, 64, 67, 0.3), 0px 1px 3px 1px rgba(60, 64, 67, 0.15);\n",
              "      fill: #174EA6;\n",
              "    }\n",
              "\n",
              "    [theme=dark] .colab-df-convert {\n",
              "      background-color: #3B4455;\n",
              "      fill: #D2E3FC;\n",
              "    }\n",
              "\n",
              "    [theme=dark] .colab-df-convert:hover {\n",
              "      background-color: #434B5C;\n",
              "      box-shadow: 0px 1px 3px 1px rgba(0, 0, 0, 0.15);\n",
              "      filter: drop-shadow(0px 1px 2px rgba(0, 0, 0, 0.3));\n",
              "      fill: #FFFFFF;\n",
              "    }\n",
              "  </style>\n",
              "\n",
              "      <script>\n",
              "        const buttonEl =\n",
              "          document.querySelector('#df-2e2c564c-471d-42e6-85d0-e14809e8d85a button.colab-df-convert');\n",
              "        buttonEl.style.display =\n",
              "          google.colab.kernel.accessAllowed ? 'block' : 'none';\n",
              "\n",
              "        async function convertToInteractive(key) {\n",
              "          const element = document.querySelector('#df-2e2c564c-471d-42e6-85d0-e14809e8d85a');\n",
              "          const dataTable =\n",
              "            await google.colab.kernel.invokeFunction('convertToInteractive',\n",
              "                                                     [key], {});\n",
              "          if (!dataTable) return;\n",
              "\n",
              "          const docLinkHtml = 'Like what you see? Visit the ' +\n",
              "            '<a target=\"_blank\" href=https://colab.research.google.com/notebooks/data_table.ipynb>data table notebook</a>'\n",
              "            + ' to learn more about interactive tables.';\n",
              "          element.innerHTML = '';\n",
              "          dataTable['output_type'] = 'display_data';\n",
              "          await google.colab.output.renderOutput(dataTable, element);\n",
              "          const docLink = document.createElement('div');\n",
              "          docLink.innerHTML = docLinkHtml;\n",
              "          element.appendChild(docLink);\n",
              "        }\n",
              "      </script>\n",
              "    </div>\n",
              "  </div>\n",
              "  "
            ]
          },
          "metadata": {},
          "execution_count": 15
        }
      ]
    },
    {
      "cell_type": "code",
      "source": [
        "import seaborn as sns\n",
        "sns.scatterplot(x=\"Followers\", y=\"Total Likes\", data=influencer);"
      ],
      "metadata": {
        "colab": {
          "base_uri": "https://localhost:8080/",
          "height": 279
        },
        "id": "RwzxT9Iiq1dl",
        "outputId": "f6cd95bc-ac21-47ec-8872-9f0c9072afb8"
      },
      "execution_count": 16,
      "outputs": [
        {
          "output_type": "display_data",
          "data": {
            "text/plain": [
              "<Figure size 432x288 with 1 Axes>"
            ],
            "image/png": "[encoded data removed]"
          },
          "metadata": {
            "needs_background": "light"
          }
        }
      ]
    },
    {
      "cell_type": "code",
      "source": [
        "sns.scatterplot(x=\"Followers\", y=\"Influence Score\", data=influencer);"
      ],
      "metadata": {
        "colab": {
          "base_uri": "https://localhost:8080/",
          "height": 279
        },
        "id": "EvZCuVoFrq31",
        "outputId": "f59dbdf0-1a52-42a9-c366-1fb8cc63e2e0"
      },
      "execution_count": 17,
      "outputs": [
        {
          "output_type": "display_data",
          "data": {
            "text/plain": [
              "<Figure size 432x288 with 1 Axes>"
            ],
            "image/png": "[encoded data removed]"
          },
          "metadata": {
            "needs_background": "light"
          }
        }
      ]
    }
  ]
}