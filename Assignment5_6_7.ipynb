{
 "cells": [
  {
   "cell_type": "code",
   "execution_count": null,
   "metadata": {
    "id": "TSVAI-TGEBI-"
   },
   "outputs": [],
   "source": [
    "import pandas as pd\n",
    "import matplotlib.pyplot as plt\n",
    "import numpy as np\n",
    "from sklearn import linear_model"
   ]
  },
  {
   "cell_type": "markdown",
   "metadata": {
    "id": "Jvy8YDH5EBJD"
   },
   "source": [
    "# Assignment5\n"
   ]
  },
  {
   "cell_type": "markdown",
   "metadata": {
    "id": "Glt0b0yQEBJG"
   },
   "source": [
    "## Ground Cricket Chirps\n",
    "\n",
    "In _The Song of Insects_ (1948) by George W. Pierce, Pierce mechanically measured the frequency (the number of wing vibrations per second) of chirps (or pulses of sound) made by a striped ground cricket, at various ground temperatures.  Since crickets are ectotherms (cold-blooded), the rate of their physiological processes and their overall metabolism are influenced by temperature.  Consequently, there is reason to believe that temperature would have a profound effect on aspects of their behavior, such as chirp frequency.\n",
    "\n",
    "In general, it was found that crickets did not sing at temperatures colder than 60º F. or warmer than 100º F."
   ]
  },
  {
   "cell_type": "code",
   "execution_count": 61,
   "metadata": {
    "id": "U8IAH032FcwZ"
   },
   "outputs": [],
   "source": [
    "import pandas as pd\n",
    "import numpy as np\n",
    "from sklearn import linear_model\n",
    "import matplotlib.pyplot as plt\n",
    "%matplotlib inline\n",
    "import itertools as it"
   ]
  },
  {
   "cell_type": "code",
   "execution_count": 26,
   "metadata": {
    "colab": {
     "base_uri": "https://localhost:8080/",
     "height": 206
    },
    "id": "Vqfbcbm9EBJI",
    "outputId": "ffd11e81-38c4-4926-d46a-7583f1dbd3d2"
   },
   "outputs": [
    {
     "data": {
      "text/html": [
       "\n",
       "  <div id=\"df-c99d95b6-794a-4486-be20-d06fe92c4b43\">\n",
       "    <div class=\"colab-df-container\">\n",
       "      <div>\n",
       "<style scoped>\n",
       "    .dataframe tbody tr th:only-of-type {\n",
       "        vertical-align: middle;\n",
       "    }\n",
       "\n",
       "    .dataframe tbody tr th {\n",
       "        vertical-align: top;\n",
       "    }\n",
       "\n",
       "    .dataframe thead th {\n",
       "        text-align: right;\n",
       "    }\n",
       "</style>\n",
       "<table border=\"1\" class=\"dataframe\">\n",
       "  <thead>\n",
       "    <tr style=\"text-align: right;\">\n",
       "      <th></th>\n",
       "      <th>Chirps/Second</th>\n",
       "      <th>Ground Temperature</th>\n",
       "    </tr>\n",
       "  </thead>\n",
       "  <tbody>\n",
       "    <tr>\n",
       "      <th>0</th>\n",
       "      <td>20.0</td>\n",
       "      <td>88.6</td>\n",
       "    </tr>\n",
       "    <tr>\n",
       "      <th>1</th>\n",
       "      <td>16.0</td>\n",
       "      <td>71.6</td>\n",
       "    </tr>\n",
       "    <tr>\n",
       "      <th>2</th>\n",
       "      <td>19.8</td>\n",
       "      <td>93.3</td>\n",
       "    </tr>\n",
       "    <tr>\n",
       "      <th>3</th>\n",
       "      <td>18.4</td>\n",
       "      <td>84.3</td>\n",
       "    </tr>\n",
       "    <tr>\n",
       "      <th>4</th>\n",
       "      <td>17.1</td>\n",
       "      <td>80.6</td>\n",
       "    </tr>\n",
       "  </tbody>\n",
       "</table>\n",
       "</div>\n",
       "      <button class=\"colab-df-convert\" onclick=\"convertToInteractive('df-c99d95b6-794a-4486-be20-d06fe92c4b43')\"\n",
       "              title=\"Convert this dataframe to an interactive table.\"\n",
       "              style=\"display:none;\">\n",
       "        \n",
       "  <svg xmlns=\"http://www.w3.org/2000/svg\" height=\"24px\"viewBox=\"0 0 24 24\"\n",
       "       width=\"24px\">\n",
       "    <path d=\"M0 0h24v24H0V0z\" fill=\"none\"/>\n",
       "    <path d=\"M18.56 5.44l.94 2.06.94-2.06 2.06-.94-2.06-.94-.94-2.06-.94 2.06-2.06.94zm-11 1L8.5 8.5l.94-2.06 2.06-.94-2.06-.94L8.5 2.5l-.94 2.06-2.06.94zm10 10l.94 2.06.94-2.06 2.06-.94-2.06-.94-.94-2.06-.94 2.06-2.06.94z\"/><path d=\"M17.41 7.96l-1.37-1.37c-.4-.4-.92-.59-1.43-.59-.52 0-1.04.2-1.43.59L10.3 9.45l-7.72 7.72c-.78.78-.78 2.05 0 2.83L4 21.41c.39.39.9.59 1.41.59.51 0 1.02-.2 1.41-.59l7.78-7.78 2.81-2.81c.8-.78.8-2.07 0-2.86zM5.41 20L4 18.59l7.72-7.72 1.47 1.35L5.41 20z\"/>\n",
       "  </svg>\n",
       "      </button>\n",
       "      \n",
       "  <style>\n",
       "    .colab-df-container {\n",
       "      display:flex;\n",
       "      flex-wrap:wrap;\n",
       "      gap: 12px;\n",
       "    }\n",
       "\n",
       "    .colab-df-convert {\n",
       "      background-color: #E8F0FE;\n",
       "      border: none;\n",
       "      border-radius: 50%;\n",
       "      cursor: pointer;\n",
       "      display: none;\n",
       "      fill: #1967D2;\n",
       "      height: 32px;\n",
       "      padding: 0 0 0 0;\n",
       "      width: 32px;\n",
       "    }\n",
       "\n",
       "    .colab-df-convert:hover {\n",
       "      background-color: #E2EBFA;\n",
       "      box-shadow: 0px 1px 2px rgba(60, 64, 67, 0.3), 0px 1px 3px 1px rgba(60, 64, 67, 0.15);\n",
       "      fill: #174EA6;\n",
       "    }\n",
       "\n",
       "    [theme=dark] .colab-df-convert {\n",
       "      background-color: #3B4455;\n",
       "      fill: #D2E3FC;\n",
       "    }\n",
       "\n",
       "    [theme=dark] .colab-df-convert:hover {\n",
       "      background-color: #434B5C;\n",
       "      box-shadow: 0px 1px 3px 1px rgba(0, 0, 0, 0.15);\n",
       "      filter: drop-shadow(0px 1px 2px rgba(0, 0, 0, 0.3));\n",
       "      fill: #FFFFFF;\n",
       "    }\n",
       "  </style>\n",
       "\n",
       "      <script>\n",
       "        const buttonEl =\n",
       "          document.querySelector('#df-c99d95b6-794a-4486-be20-d06fe92c4b43 button.colab-df-convert');\n",
       "        buttonEl.style.display =\n",
       "          google.colab.kernel.accessAllowed ? 'block' : 'none';\n",
       "\n",
       "        async function convertToInteractive(key) {\n",
       "          const element = document.querySelector('#df-c99d95b6-794a-4486-be20-d06fe92c4b43');\n",
       "          const dataTable =\n",
       "            await google.colab.kernel.invokeFunction('convertToInteractive',\n",
       "                                                     [key], {});\n",
       "          if (!dataTable) return;\n",
       "\n",
       "          const docLinkHtml = 'Like what you see? Visit the ' +\n",
       "            '<a target=\"_blank\" href=https://colab.research.google.com/notebooks/data_table.ipynb>data table notebook</a>'\n",
       "            + ' to learn more about interactive tables.';\n",
       "          element.innerHTML = '';\n",
       "          dataTable['output_type'] = 'display_data';\n",
       "          await google.colab.output.renderOutput(dataTable, element);\n",
       "          const docLink = document.createElement('div');\n",
       "          docLink.innerHTML = docLinkHtml;\n",
       "          element.appendChild(docLink);\n",
       "        }\n",
       "      </script>\n",
       "    </div>\n",
       "  </div>\n",
       "  "
      ],
      "text/plain": [
       "   Chirps/Second  Ground Temperature\n",
       "0           20.0                88.6\n",
       "1           16.0                71.6\n",
       "2           19.8                93.3\n",
       "3           18.4                84.3\n",
       "4           17.1                80.6"
      ]
     },
     "execution_count": 26,
     "metadata": {},
     "output_type": "execute_result"
    }
   ],
   "source": [
    "ground_cricket_data = {\"Chirps/Second\": [20.0, 16.0, 19.8, 18.4, 17.1, 15.5, 14.7,\n",
    "                                         15.7, 15.4, 16.3, 15.0, 17.2, 16.0, 17.0,\n",
    "                                         14.4],\n",
    "                       \"Ground Temperature\": [88.6, 71.6, 93.3, 84.3, 80.6, 75.2, 69.7,\n",
    "                                              71.6, 69.4, 83.3, 79.6, 82.6, 80.6, 83.5,\n",
    "                                              76.3]}\n",
    "df = pd.DataFrame(ground_cricket_data)\n",
    "df.head()"
   ]
  },
  {
   "cell_type": "markdown",
   "metadata": {
    "id": "S4x8EOCnEBJJ"
   },
   "source": [
    "### Tasks\n",
    "\n",
    "1. Find the linear regression equation for this data.\n",
    "2. Chart the original data and the equation on the chart.\n",
    "3. Find the equation's $R^2$ score (use the `.score` method) to determine whether the\n",
    "equation is a good fit for this data. (0.8 and greater is considered a strong correlation.)\n",
    "4. Extrapolate data:  If the ground temperature reached 95, then at what approximate rate would you expect the crickets to be chirping?\n",
    "5. Interpolate data:  With a listening device, you discovered that on a particular morning the crickets were chirping at a rate of 18 chirps per second.  What was the approximate ground temperature that morning? "
   ]
  },
  {
   "cell_type": "markdown",
   "metadata": {
    "id": "8lk9neD3FtGt"
   },
   "source": [
    "**Linear regression equation**"
   ]
  },
  {
   "cell_type": "code",
   "execution_count": 27,
   "metadata": {
    "colab": {
     "base_uri": "https://localhost:8080/"
    },
    "id": "SuUrfhesGJJh",
    "outputId": "268778dd-6cf9-48d8-a449-181de9c4060a"
   },
   "outputs": [
    {
     "data": {
      "text/plain": [
       "Index(['Chirps/Second', 'Ground Temperature'], dtype='object')"
      ]
     },
     "execution_count": 27,
     "metadata": {},
     "output_type": "execute_result"
    }
   ],
   "source": [
    "df.columns"
   ]
  },
  {
   "cell_type": "code",
   "execution_count": 34,
   "metadata": {
    "id": "GED8mdRWFzof"
   },
   "outputs": [],
   "source": [
    "x =df['Ground Temperature']\n",
    "x = x.to_frame()\n",
    "y = df['Chirps/Second']"
   ]
  },
  {
   "cell_type": "code",
   "execution_count": 35,
   "metadata": {
    "colab": {
     "base_uri": "https://localhost:8080/"
    },
    "id": "RdNovhnEHQCp",
    "outputId": "ff8cd948-a7d5-4d5d-f107-89bdaec63c0a"
   },
   "outputs": [
    {
     "data": {
      "text/plain": [
       "LinearRegression()"
      ]
     },
     "execution_count": 35,
     "metadata": {},
     "output_type": "execute_result"
    }
   ],
   "source": [
    "linreg = linear_model.LinearRegression()\n",
    "linreg.fit(x, y)"
   ]
  },
  {
   "cell_type": "code",
   "execution_count": 13,
   "metadata": {
    "colab": {
     "base_uri": "https://localhost:8080/"
    },
    "id": "U-Bvwe_CHSxn",
    "outputId": "41a1b96a-00a9-42ac-c60f-454fd7e3978d"
   },
   "outputs": [
    {
     "name": "stdout",
     "output_type": "stream",
     "text": [
      "intercept: 0.45931464523595267\n",
      "coefficient: [0.20299973]\n"
     ]
    }
   ],
   "source": [
    "print('intercept:', linreg.intercept_)\n",
    "print('coefficient:', linreg.coef_)"
   ]
  },
  {
   "cell_type": "markdown",
   "metadata": {
    "id": "feypliJsHWWV"
   },
   "source": [
    "0.459 * x + 0.2"
   ]
  },
  {
   "cell_type": "markdown",
   "metadata": {
    "id": "UGoXbdNUHvcG"
   },
   "source": [
    "**ORGNAL DATA VS REGRESSION DATA CHART**"
   ]
  },
  {
   "cell_type": "code",
   "execution_count": 14,
   "metadata": {
    "colab": {
     "base_uri": "https://localhost:8080/",
     "height": 282
    },
    "id": "rvb7G949Ht-I",
    "outputId": "99be1e08-1e76-41fe-ecc3-ff05b0f80b95"
   },
   "outputs": [
    {
     "data": {
      "text/plain": [
       "[<matplotlib.lines.Line2D at 0x7f01194436d0>]"
      ]
     },
     "execution_count": 14,
     "metadata": {},
     "output_type": "execute_result"
    },
    {
     "data": {
      "image/png": "[encoded data removed]",
      "text/plain": [
       "<Figure size 432x288 with 1 Axes>"
      ]
     },
     "metadata": {
      "needs_background": "light"
     },
     "output_type": "display_data"
    }
   ],
   "source": [
    "plt.scatter(x, y, color='blue')\n",
    "plt.plot(x, linreg.predict(x), color='limegreen')"
   ]
  },
  {
   "cell_type": "markdown",
   "metadata": {
    "id": "luXneFwtH7go"
   },
   "source": [
    "**R2 Score**"
   ]
  },
  {
   "cell_type": "code",
   "execution_count": 15,
   "metadata": {
    "colab": {
     "base_uri": "https://localhost:8080/"
    },
    "id": "bfSUvic1H4H7",
    "outputId": "ccadd8d2-8ab9-42fa-ff80-304cc02190c0"
   },
   "outputs": [
    {
     "name": "stdout",
     "output_type": "stream",
     "text": [
      "r-squared:  0.6922946529146998\n"
     ]
    }
   ],
   "source": [
    "print('r-squared: ', linreg.score(x, y))"
   ]
  },
  {
   "cell_type": "markdown",
   "metadata": {
    "id": "hsFPWA-RIvpQ"
   },
   "source": [
    "r2 score is less than 0.8 so it is not considered as good fit"
   ]
  },
  {
   "cell_type": "markdown",
   "metadata": {
    "id": "IHxwRykyIrjg"
   },
   "source": [
    "**Extrapolate data**"
   ]
  },
  {
   "cell_type": "code",
   "execution_count": 36,
   "metadata": {
    "colab": {
     "base_uri": "https://localhost:8080/",
     "height": 81
    },
    "id": "oHNp43iII84m",
    "outputId": "de28ae06-630a-4081-8755-b28e6d9b8224"
   },
   "outputs": [
    {
     "data": {
      "text/html": [
       "\n",
       "  <div id=\"df-30947eaf-cfd3-43ec-a1a1-388d518fe3e7\">\n",
       "    <div class=\"colab-df-container\">\n",
       "      <div>\n",
       "<style scoped>\n",
       "    .dataframe tbody tr th:only-of-type {\n",
       "        vertical-align: middle;\n",
       "    }\n",
       "\n",
       "    .dataframe tbody tr th {\n",
       "        vertical-align: top;\n",
       "    }\n",
       "\n",
       "    .dataframe thead th {\n",
       "        text-align: right;\n",
       "    }\n",
       "</style>\n",
       "<table border=\"1\" class=\"dataframe\">\n",
       "  <thead>\n",
       "    <tr style=\"text-align: right;\">\n",
       "      <th></th>\n",
       "      <th>Ground Temperature</th>\n",
       "    </tr>\n",
       "  </thead>\n",
       "  <tbody>\n",
       "    <tr>\n",
       "      <th>0</th>\n",
       "      <td>95</td>\n",
       "    </tr>\n",
       "  </tbody>\n",
       "</table>\n",
       "</div>\n",
       "      <button class=\"colab-df-convert\" onclick=\"convertToInteractive('df-30947eaf-cfd3-43ec-a1a1-388d518fe3e7')\"\n",
       "              title=\"Convert this dataframe to an interactive table.\"\n",
       "              style=\"display:none;\">\n",
       "        \n",
       "  <svg xmlns=\"http://www.w3.org/2000/svg\" height=\"24px\"viewBox=\"0 0 24 24\"\n",
       "       width=\"24px\">\n",
       "    <path d=\"M0 0h24v24H0V0z\" fill=\"none\"/>\n",
       "    <path d=\"M18.56 5.44l.94 2.06.94-2.06 2.06-.94-2.06-.94-.94-2.06-.94 2.06-2.06.94zm-11 1L8.5 8.5l.94-2.06 2.06-.94-2.06-.94L8.5 2.5l-.94 2.06-2.06.94zm10 10l.94 2.06.94-2.06 2.06-.94-2.06-.94-.94-2.06-.94 2.06-2.06.94z\"/><path d=\"M17.41 7.96l-1.37-1.37c-.4-.4-.92-.59-1.43-.59-.52 0-1.04.2-1.43.59L10.3 9.45l-7.72 7.72c-.78.78-.78 2.05 0 2.83L4 21.41c.39.39.9.59 1.41.59.51 0 1.02-.2 1.41-.59l7.78-7.78 2.81-2.81c.8-.78.8-2.07 0-2.86zM5.41 20L4 18.59l7.72-7.72 1.47 1.35L5.41 20z\"/>\n",
       "  </svg>\n",
       "      </button>\n",
       "      \n",
       "  <style>\n",
       "    .colab-df-container {\n",
       "      display:flex;\n",
       "      flex-wrap:wrap;\n",
       "      gap: 12px;\n",
       "    }\n",
       "\n",
       "    .colab-df-convert {\n",
       "      background-color: #E8F0FE;\n",
       "      border: none;\n",
       "      border-radius: 50%;\n",
       "      cursor: pointer;\n",
       "      display: none;\n",
       "      fill: #1967D2;\n",
       "      height: 32px;\n",
       "      padding: 0 0 0 0;\n",
       "      width: 32px;\n",
       "    }\n",
       "\n",
       "    .colab-df-convert:hover {\n",
       "      background-color: #E2EBFA;\n",
       "      box-shadow: 0px 1px 2px rgba(60, 64, 67, 0.3), 0px 1px 3px 1px rgba(60, 64, 67, 0.15);\n",
       "      fill: #174EA6;\n",
       "    }\n",
       "\n",
       "    [theme=dark] .colab-df-convert {\n",
       "      background-color: #3B4455;\n",
       "      fill: #D2E3FC;\n",
       "    }\n",
       "\n",
       "    [theme=dark] .colab-df-convert:hover {\n",
       "      background-color: #434B5C;\n",
       "      box-shadow: 0px 1px 3px 1px rgba(0, 0, 0, 0.15);\n",
       "      filter: drop-shadow(0px 1px 2px rgba(0, 0, 0, 0.3));\n",
       "      fill: #FFFFFF;\n",
       "    }\n",
       "  </style>\n",
       "\n",
       "      <script>\n",
       "        const buttonEl =\n",
       "          document.querySelector('#df-30947eaf-cfd3-43ec-a1a1-388d518fe3e7 button.colab-df-convert');\n",
       "        buttonEl.style.display =\n",
       "          google.colab.kernel.accessAllowed ? 'block' : 'none';\n",
       "\n",
       "        async function convertToInteractive(key) {\n",
       "          const element = document.querySelector('#df-30947eaf-cfd3-43ec-a1a1-388d518fe3e7');\n",
       "          const dataTable =\n",
       "            await google.colab.kernel.invokeFunction('convertToInteractive',\n",
       "                                                     [key], {});\n",
       "          if (!dataTable) return;\n",
       "\n",
       "          const docLinkHtml = 'Like what you see? Visit the ' +\n",
       "            '<a target=\"_blank\" href=https://colab.research.google.com/notebooks/data_table.ipynb>data table notebook</a>'\n",
       "            + ' to learn more about interactive tables.';\n",
       "          element.innerHTML = '';\n",
       "          dataTable['output_type'] = 'display_data';\n",
       "          await google.colab.output.renderOutput(dataTable, element);\n",
       "          const docLink = document.createElement('div');\n",
       "          docLink.innerHTML = docLinkHtml;\n",
       "          element.appendChild(docLink);\n",
       "        }\n",
       "      </script>\n",
       "    </div>\n",
       "  </div>\n",
       "  "
      ],
      "text/plain": [
       "   Ground Temperature\n",
       "0                  95"
      ]
     },
     "execution_count": 36,
     "metadata": {},
     "output_type": "execute_result"
    }
   ],
   "source": [
    "ground_cricket_data = {\"Ground Temperature\": [95]}\n",
    "df1 = pd.DataFrame(ground_cricket_data)\n",
    "df1.head()"
   ]
  },
  {
   "cell_type": "code",
   "execution_count": 37,
   "metadata": {
    "colab": {
     "base_uri": "https://localhost:8080/"
    },
    "id": "1QN6GuR2LJhT",
    "outputId": "a56934fa-fbe5-499c-f7a3-0bc31fb0f93b"
   },
   "outputs": [
    {
     "data": {
      "text/plain": [
       "array([19.74428913])"
      ]
     },
     "execution_count": 37,
     "metadata": {},
     "output_type": "execute_result"
    }
   ],
   "source": [
    "linreg.predict(df1)\n"
   ]
  },
  {
   "cell_type": "markdown",
   "metadata": {
    "id": "SM1ebF0yI3qg"
   },
   "source": [
    "**Interploate Data**"
   ]
  },
  {
   "cell_type": "code",
   "execution_count": 38,
   "metadata": {
    "colab": {
     "base_uri": "https://localhost:8080/"
    },
    "id": "ZcO4evLzI9mw",
    "outputId": "fe13e093-27c4-4b61-81bd-0a3f34f33782"
   },
   "outputs": [
    {
     "data": {
      "text/plain": [
       "array([86.40743135])"
      ]
     },
     "execution_count": 38,
     "metadata": {},
     "output_type": "execute_result"
    }
   ],
   "source": [
    "(18 - linreg.intercept_) / linreg.coef_"
   ]
  },
  {
   "cell_type": "markdown",
   "metadata": {
    "id": "HTlOZO67EBJL"
   },
   "source": [
    "# Assignment6"
   ]
  },
  {
   "cell_type": "markdown",
   "metadata": {
    "id": "aJx2jYDnEBJM"
   },
   "source": [
    "## Brain vs. Body Weight\n",
    "\n",
    "In the file `brain_body.txt`, the average brain and body weight for a number of mammal species are recorded. Load this data into a Pandas data frame.\n",
    "\n",
    "### Tasks\n",
    "\n",
    "1. Find the linear regression equation for this data for brain weight to body weight.\n",
    "2. Chart the original data and the equation on the chart.\n",
    "3. Find the equation's $R^2$ score (use the `.score` method) to determine whether the\n",
    "equation is a good fit for this data. (0.8 and greater is considered a strong correlation.)"
   ]
  },
  {
   "cell_type": "markdown",
   "metadata": {
    "id": "ObDaAvb9L6Xo"
   },
   "source": [
    "**Find the linear regression equation for this data for brain weight to body weight**"
   ]
  },
  {
   "cell_type": "code",
   "execution_count": 40,
   "metadata": {
    "id": "nTNA2CXjEBJN"
   },
   "outputs": [],
   "source": [
    "df = pd.read_fwf(\"brain_body.txt\")"
   ]
  },
  {
   "cell_type": "code",
   "execution_count": 41,
   "metadata": {
    "colab": {
     "base_uri": "https://localhost:8080/",
     "height": 206
    },
    "id": "5YA2Vx8-Lzc1",
    "outputId": "dedb51cd-47aa-4968-b278-fc537b063265"
   },
   "outputs": [
    {
     "data": {
      "text/html": [
       "\n",
       "  <div id=\"df-fed9433e-0478-449e-a04d-d39652f3af31\">\n",
       "    <div class=\"colab-df-container\">\n",
       "      <div>\n",
       "<style scoped>\n",
       "    .dataframe tbody tr th:only-of-type {\n",
       "        vertical-align: middle;\n",
       "    }\n",
       "\n",
       "    .dataframe tbody tr th {\n",
       "        vertical-align: top;\n",
       "    }\n",
       "\n",
       "    .dataframe thead th {\n",
       "        text-align: right;\n",
       "    }\n",
       "</style>\n",
       "<table border=\"1\" class=\"dataframe\">\n",
       "  <thead>\n",
       "    <tr style=\"text-align: right;\">\n",
       "      <th></th>\n",
       "      <th>Brain</th>\n",
       "      <th>Body</th>\n",
       "    </tr>\n",
       "  </thead>\n",
       "  <tbody>\n",
       "    <tr>\n",
       "      <th>0</th>\n",
       "      <td>3.385</td>\n",
       "      <td>44.5</td>\n",
       "    </tr>\n",
       "    <tr>\n",
       "      <th>1</th>\n",
       "      <td>0.480</td>\n",
       "      <td>15.5</td>\n",
       "    </tr>\n",
       "    <tr>\n",
       "      <th>2</th>\n",
       "      <td>1.350</td>\n",
       "      <td>8.1</td>\n",
       "    </tr>\n",
       "    <tr>\n",
       "      <th>3</th>\n",
       "      <td>465.000</td>\n",
       "      <td>423.0</td>\n",
       "    </tr>\n",
       "    <tr>\n",
       "      <th>4</th>\n",
       "      <td>36.330</td>\n",
       "      <td>119.5</td>\n",
       "    </tr>\n",
       "  </tbody>\n",
       "</table>\n",
       "</div>\n",
       "      <button class=\"colab-df-convert\" onclick=\"convertToInteractive('df-fed9433e-0478-449e-a04d-d39652f3af31')\"\n",
       "              title=\"Convert this dataframe to an interactive table.\"\n",
       "              style=\"display:none;\">\n",
       "        \n",
       "  <svg xmlns=\"http://www.w3.org/2000/svg\" height=\"24px\"viewBox=\"0 0 24 24\"\n",
       "       width=\"24px\">\n",
       "    <path d=\"M0 0h24v24H0V0z\" fill=\"none\"/>\n",
       "    <path d=\"M18.56 5.44l.94 2.06.94-2.06 2.06-.94-2.06-.94-.94-2.06-.94 2.06-2.06.94zm-11 1L8.5 8.5l.94-2.06 2.06-.94-2.06-.94L8.5 2.5l-.94 2.06-2.06.94zm10 10l.94 2.06.94-2.06 2.06-.94-2.06-.94-.94-2.06-.94 2.06-2.06.94z\"/><path d=\"M17.41 7.96l-1.37-1.37c-.4-.4-.92-.59-1.43-.59-.52 0-1.04.2-1.43.59L10.3 9.45l-7.72 7.72c-.78.78-.78 2.05 0 2.83L4 21.41c.39.39.9.59 1.41.59.51 0 1.02-.2 1.41-.59l7.78-7.78 2.81-2.81c.8-.78.8-2.07 0-2.86zM5.41 20L4 18.59l7.72-7.72 1.47 1.35L5.41 20z\"/>\n",
       "  </svg>\n",
       "      </button>\n",
       "      \n",
       "  <style>\n",
       "    .colab-df-container {\n",
       "      display:flex;\n",
       "      flex-wrap:wrap;\n",
       "      gap: 12px;\n",
       "    }\n",
       "\n",
       "    .colab-df-convert {\n",
       "      background-color: #E8F0FE;\n",
       "      border: none;\n",
       "      border-radius: 50%;\n",
       "      cursor: pointer;\n",
       "      display: none;\n",
       "      fill: #1967D2;\n",
       "      height: 32px;\n",
       "      padding: 0 0 0 0;\n",
       "      width: 32px;\n",
       "    }\n",
       "\n",
       "    .colab-df-convert:hover {\n",
       "      background-color: #E2EBFA;\n",
       "      box-shadow: 0px 1px 2px rgba(60, 64, 67, 0.3), 0px 1px 3px 1px rgba(60, 64, 67, 0.15);\n",
       "      fill: #174EA6;\n",
       "    }\n",
       "\n",
       "    [theme=dark] .colab-df-convert {\n",
       "      background-color: #3B4455;\n",
       "      fill: #D2E3FC;\n",
       "    }\n",
       "\n",
       "    [theme=dark] .colab-df-convert:hover {\n",
       "      background-color: #434B5C;\n",
       "      box-shadow: 0px 1px 3px 1px rgba(0, 0, 0, 0.15);\n",
       "      filter: drop-shadow(0px 1px 2px rgba(0, 0, 0, 0.3));\n",
       "      fill: #FFFFFF;\n",
       "    }\n",
       "  </style>\n",
       "\n",
       "      <script>\n",
       "        const buttonEl =\n",
       "          document.querySelector('#df-fed9433e-0478-449e-a04d-d39652f3af31 button.colab-df-convert');\n",
       "        buttonEl.style.display =\n",
       "          google.colab.kernel.accessAllowed ? 'block' : 'none';\n",
       "\n",
       "        async function convertToInteractive(key) {\n",
       "          const element = document.querySelector('#df-fed9433e-0478-449e-a04d-d39652f3af31');\n",
       "          const dataTable =\n",
       "            await google.colab.kernel.invokeFunction('convertToInteractive',\n",
       "                                                     [key], {});\n",
       "          if (!dataTable) return;\n",
       "\n",
       "          const docLinkHtml = 'Like what you see? Visit the ' +\n",
       "            '<a target=\"_blank\" href=https://colab.research.google.com/notebooks/data_table.ipynb>data table notebook</a>'\n",
       "            + ' to learn more about interactive tables.';\n",
       "          element.innerHTML = '';\n",
       "          dataTable['output_type'] = 'display_data';\n",
       "          await google.colab.output.renderOutput(dataTable, element);\n",
       "          const docLink = document.createElement('div');\n",
       "          docLink.innerHTML = docLinkHtml;\n",
       "          element.appendChild(docLink);\n",
       "        }\n",
       "      </script>\n",
       "    </div>\n",
       "  </div>\n",
       "  "
      ],
      "text/plain": [
       "     Brain   Body\n",
       "0    3.385   44.5\n",
       "1    0.480   15.5\n",
       "2    1.350    8.1\n",
       "3  465.000  423.0\n",
       "4   36.330  119.5"
      ]
     },
     "execution_count": 41,
     "metadata": {},
     "output_type": "execute_result"
    }
   ],
   "source": [
    "df.head()"
   ]
  },
  {
   "cell_type": "code",
   "execution_count": 42,
   "metadata": {
    "id": "6HJv6bfmL3CL"
   },
   "outputs": [],
   "source": [
    "x = df['Brain']\n",
    "x = x.to_frame()\n",
    "y = df['Body']"
   ]
  },
  {
   "cell_type": "code",
   "execution_count": 43,
   "metadata": {
    "colab": {
     "base_uri": "https://localhost:8080/"
    },
    "id": "BF16EgrFMGQi",
    "outputId": "fe3e20b8-afa5-4b95-ba07-f54fcdd5c155"
   },
   "outputs": [
    {
     "name": "stdout",
     "output_type": "stream",
     "text": [
      "intercept: 91.00439620740687\n",
      "coefficient: [0.96649637]\n"
     ]
    }
   ],
   "source": [
    "linreg = linear_model.LinearRegression()\n",
    "linreg.fit(x, y)\n",
    "\n",
    "print('intercept:', linreg.intercept_)\n",
    "print('coefficient:', linreg.coef_)\n",
    "\n"
   ]
  },
  {
   "cell_type": "markdown",
   "metadata": {
    "id": "uOmbHEfQMS1x"
   },
   "source": [
    "**91 * x + 0.96**"
   ]
  },
  {
   "cell_type": "markdown",
   "metadata": {
    "id": "pyJI7S8kMb6C"
   },
   "source": [
    "**Chart the original data and the equation on the chart.**"
   ]
  },
  {
   "cell_type": "code",
   "execution_count": 44,
   "metadata": {
    "colab": {
     "base_uri": "https://localhost:8080/",
     "height": 282
    },
    "id": "p9j0v4nNMKXH",
    "outputId": "a576720a-e894-4dee-a2d1-1a24b73e7498"
   },
   "outputs": [
    {
     "data": {
      "text/plain": [
       "[<matplotlib.lines.Line2D at 0x7f01181268d0>]"
      ]
     },
     "execution_count": 44,
     "metadata": {},
     "output_type": "execute_result"
    },
    {
     "data": {
      "image/png": "[encoded data removed]",
      "text/plain": [
       "<Figure size 432x288 with 1 Axes>"
      ]
     },
     "metadata": {
      "needs_background": "light"
     },
     "output_type": "display_data"
    }
   ],
   "source": [
    "plt.scatter(x, y, color='green')\n",
    "plt.plot(x, linreg.predict(x), color='lightblue', linewidth=2)"
   ]
  },
  {
   "cell_type": "markdown",
   "metadata": {
    "id": "iceja15tMjTo"
   },
   "source": [
    "**Find the equation's  R2  score**"
   ]
  },
  {
   "cell_type": "code",
   "execution_count": 45,
   "metadata": {
    "colab": {
     "base_uri": "https://localhost:8080/"
    },
    "id": "n_MyqnEaMuM_",
    "outputId": "4878bbd0-b19f-4e6e-ad66-eb2a7f8d63c7"
   },
   "outputs": [
    {
     "name": "stdout",
     "output_type": "stream",
     "text": [
      "r-squared:  0.8726620843043331\n"
     ]
    }
   ],
   "source": [
    "print('r-squared: ', linreg.score(x, y))"
   ]
  },
  {
   "cell_type": "markdown",
   "metadata": {
    "id": "feJDpsvXMxV4"
   },
   "source": [
    "this regression is a good fit"
   ]
  },
  {
   "cell_type": "markdown",
   "metadata": {
    "id": "CPkZdSQrEBJO"
   },
   "source": [
    "# Assignment7"
   ]
  },
  {
   "cell_type": "markdown",
   "metadata": {
    "id": "6yGtJ0nOEBJP"
   },
   "source": [
    "## Salary Discrimination\n",
    "\n",
    "The file `salary.txt` contains data for 52 tenure-track professors at a small Midwestern college. This data was used in legal proceedings in the 1980s about discrimination against women in salary.\n",
    "\n",
    "The data in the file, by column:\n",
    "\n",
    "1. Sex. 1 for female, 0 for male.\n",
    "2. Rank. 1 for assistant professor, 2 for associate professor, 3 for full professor.\n",
    "3. Year. Number of years in current rank.\n",
    "4. Degree. Highest degree. 1 for doctorate, 0 for master's.\n",
    "5. YSdeg. Years since highest degree was earned.\n",
    "6. Salary. Salary/year in dollars.\n",
    "\n",
    "### Tasks\n",
    "\n",
    "1. Find the linear regression equation for this data using columns 1-5 to column 6.\n",
    "2. Find the selection of columns with the best $R^2$ score.\n",
    "3. Report whether sex is a factor in salary."
   ]
  },
  {
   "cell_type": "code",
   "execution_count": 49,
   "metadata": {
    "id": "DzEnOIm7EBJQ"
   },
   "outputs": [],
   "source": [
    "df_sd = pd.read_fwf(\"salary.txt\", header=None, \n",
    "                 names=[\"Sex\", \"Rank\", \"Year\", \"Degree\", \"YSdeg\", \"Salary\"])"
   ]
  },
  {
   "cell_type": "code",
   "execution_count": 53,
   "metadata": {
    "id": "LrATfPk8NKEj"
   },
   "outputs": [],
   "source": [
    "salary_discrim_cols = ['Sex', 'Rank', 'Year', 'Degree', 'YSdeg']\n",
    "\n"
   ]
  },
  {
   "cell_type": "markdown",
   "metadata": {
    "id": "VDvrTEq_M44A"
   },
   "source": [
    "**Find the linear regression equation for this data using columns 1-5 to column 6.**"
   ]
  },
  {
   "cell_type": "code",
   "execution_count": 54,
   "metadata": {
    "id": "bQ1GpMWpN7pZ"
   },
   "outputs": [],
   "source": [
    "def lin_reg_eq_print(salary_discrim_cols, df):\n",
    "    input_cols = df[salary_discrim_cols]\n",
    "    salary = df['Salary']\n",
    "    regr_sd = linear_model.LinearRegression()\n",
    "    regr_sd.fit(input_cols, salary)\n",
    "    print('The equation for columns {} with respect to Salary:\\n'\n",
    "          '{} + {}'.format(salary_discrim_cols, regr_sd.coef_, regr_sd.intercept_))"
   ]
  },
  {
   "cell_type": "code",
   "execution_count": 55,
   "metadata": {
    "colab": {
     "base_uri": "https://localhost:8080/"
    },
    "id": "FpTX4voZNypL",
    "outputId": "1472de8f-2747-4d94-85ec-893ade779f39"
   },
   "outputs": [
    {
     "name": "stdout",
     "output_type": "stream",
     "text": [
      "The equation for columns ['Sex', 'Rank', 'Year', 'Degree', 'YSdeg'] with respect to Salary:\n",
      "[ 1241.7924996   5586.18144952   482.85976783 -1331.64406341\n",
      "  -128.79057354] + 11410.14654725559\n"
     ]
    }
   ],
   "source": [
    "lin_reg_eq_print(salary_discrim_cols, df_sd)"
   ]
  },
  {
   "cell_type": "code",
   "execution_count": 56,
   "metadata": {
    "colab": {
     "base_uri": "https://localhost:8080/"
    },
    "id": "0QprHRxYM7io",
    "outputId": "27b7f0e9-0337-43fb-c4ba-764bd38d6389"
   },
   "outputs": [
    {
     "data": {
      "text/plain": [
       "LinearRegression()"
      ]
     },
     "execution_count": 56,
     "metadata": {},
     "output_type": "execute_result"
    }
   ],
   "source": [
    "linreg = linear_model.LinearRegression()\n",
    "linreg.fit(x, y)"
   ]
  },
  {
   "cell_type": "markdown",
   "metadata": {
    "id": "_ySo-jkqM7M5"
   },
   "source": [
    "**Find the selection of columns with the best  R2  score.**"
   ]
  },
  {
   "cell_type": "code",
   "execution_count": 58,
   "metadata": {
    "colab": {
     "base_uri": "https://localhost:8080/"
    },
    "id": "zf0RhKUvNAjw",
    "outputId": "afdd9456-5705-426e-993b-32f39763ed17"
   },
   "outputs": [
    {
     "name": "stdout",
     "output_type": "stream",
     "text": [
      "R^2 score for equation using all columns: 0.8547180674410969\n"
     ]
    }
   ],
   "source": [
    "def lin_reg_wrt_focus(salary_discrim_cols, df, focus='Salary'):\n",
    "    input_cols = df[salary_discrim_cols]\n",
    "    focus_output = df[focus]\n",
    "    regr_sd = linear_model.LinearRegression()\n",
    "    regr_sd.fit(input_cols, focus_output)\n",
    "    return regr_sd.score(input_cols, focus_output)\n",
    "print('R^2 score for equation using all columns: {}'\n",
    "      .format(lin_reg_wrt_focus(salary_discrim_cols, df_sd)))"
   ]
  },
  {
   "cell_type": "code",
   "execution_count": 62,
   "metadata": {
    "id": "HoWpKGJNOgpl"
   },
   "outputs": [],
   "source": [
    "def get_combos(cols):\n",
    "    return [it.combinations(cols, n + 1) for n in range(len(cols))]\n",
    "combos = get_combos(salary_discrim_cols)"
   ]
  },
  {
   "cell_type": "code",
   "execution_count": 63,
   "metadata": {
    "colab": {
     "base_uri": "https://localhost:8080/"
    },
    "id": "Nw1FQWDfO1Tt",
    "outputId": "5144837d-01c5-400d-bd64-71ba9713777d"
   },
   "outputs": [
    {
     "data": {
      "text/plain": [
       "[(0.8547180674410969, ('Sex', 'Rank', 'Year', 'Degree', 'YSdeg')),\n",
       " (0.8490366192262851, ('Sex', 'Rank', 'Year', 'YSdeg')),\n",
       " (0.8485077204335426, ('Rank', 'Year', 'Degree', 'YSdeg')),\n",
       " (0.8456725764485596, ('Rank', 'Year', 'YSdeg')),\n",
       " (0.845547641297936, ('Sex', 'Rank', 'Year', 'Degree')),\n",
       " (0.8454319861987166, ('Sex', 'Rank', 'Year')),\n",
       " (0.8437395200874137, ('Rank', 'Year', 'Degree')),\n",
       " (0.8436480933264597, ('Rank', 'Year')),\n",
       " (0.7671813414350668, ('Sex', 'Rank', 'Degree', 'YSdeg')),\n",
       " (0.7666122610227071, ('Sex', 'Rank', 'YSdeg')),\n",
       " (0.7625149185326454, ('Rank', 'Degree', 'YSdeg')),\n",
       " (0.7623948189698249, ('Rank', 'YSdeg')),\n",
       " (0.7583144768153613, ('Sex', 'Rank', 'Degree')),\n",
       " (0.7557961688386643, ('Rank', 'Degree')),\n",
       " (0.7554917749443394, ('Sex', 'Rank')),\n",
       " (0.7525360539274633, ('Rank',)),\n",
       " (0.6311597502907436, ('Sex', 'Year', 'Degree', 'YSdeg')),\n",
       " (0.6236261611533503, ('Year', 'Degree', 'YSdeg')),\n",
       " (0.5832708257660315, ('Sex', 'Degree', 'YSdeg')),\n",
       " (0.5808063918180405, ('Sex', 'Year', 'YSdeg')),\n",
       " (0.5782019226431887, ('Year', 'YSdeg')),\n",
       " (0.5409662288237875, ('Degree', 'YSdeg')),\n",
       " (0.4930479271966782, ('Sex', 'YSdeg')),\n",
       " (0.49207944757472966, ('Sex', 'Year', 'Degree')),\n",
       " (0.4919014149016441, ('Year', 'Degree')),\n",
       " (0.4911360941886388, ('Sex', 'Year')),\n",
       " (0.49093702676921624, ('Year',)),\n",
       " (0.45542813458360276, ('YSdeg',)),\n",
       " (0.06643739842018881, ('Sex', 'Degree')),\n",
       " (0.06389892583288004, ('Sex',)),\n",
       " (0.004861680984748373, ('Degree',))]"
      ]
     },
     "execution_count": 63,
     "metadata": {},
     "output_type": "execute_result"
    }
   ],
   "source": [
    "def all_combo_scores(combos, df, focus='Salary'):\n",
    "    combo_scores = {}\n",
    "    for m in range(len(list(combos))):\n",
    "        for n in list(combos[m]):\n",
    "            combo_scores[lin_reg_wrt_focus(list(n), df, focus)] = n\n",
    "    return combo_scores\n",
    "combo_scores = all_combo_scores(combos, df_sd)\n",
    "sorted(combo_scores.items(), key=lambda c: c[0], reverse=True)"
   ]
  },
  {
   "cell_type": "markdown",
   "metadata": {
    "id": "v_slJAQANCww"
   },
   "source": [
    "**Report whether sex is a factor in salary.**"
   ]
  },
  {
   "cell_type": "code",
   "execution_count": 64,
   "metadata": {
    "colab": {
     "base_uri": "https://localhost:8080/"
    },
    "id": "Ms3NrpXbNG5f",
    "outputId": "920ad6fc-36f3-4c1a-97b5-f3dd0de66ea2"
   },
   "outputs": [
    {
     "name": "stdout",
     "output_type": "stream",
     "text": [
      "Num men: 38\n",
      "Num women: 14\n"
     ]
    }
   ],
   "source": [
    "num_by_sex = df_sd.Sex.value_counts()\n",
    "print('Num men: {}\\nNum women: {}'.format(num_by_sex[0], num_by_sex[1]))"
   ]
  },
  {
   "cell_type": "code",
   "execution_count": 65,
   "metadata": {
    "colab": {
     "base_uri": "https://localhost:8080/",
     "height": 295
    },
    "id": "P4tL416aO_yv",
    "outputId": "c3841c1e-8a6e-4475-e97d-6d74be516ce5"
   },
   "outputs": [
    {
     "data": {
      "image/png": "[encoded data removed]",
      "text/plain": [
       "<Figure size 432x288 with 1 Axes>"
      ]
     },
     "metadata": {
      "needs_background": "light"
     },
     "output_type": "display_data"
    }
   ],
   "source": [
    "df_sd.pivot_table(index=df_sd.index, columns='Sex', values='Salary') \\\n",
    "    .plot(kind='hist', alpha=0.7, stacked=True, bins=20, title='Salary by Sex')\n",
    "plt.xlabel('Dollars')\n",
    "plt.ylabel('Faculty')\n",
    "plt.show()"
   ]
  },
  {
   "cell_type": "code",
   "execution_count": 66,
   "metadata": {
    "colab": {
     "base_uri": "https://localhost:8080/",
     "height": 295
    },
    "id": "tFlYC5JePDAf",
    "outputId": "d8032aa0-30d3-477d-ab27-1053c52b886f"
   },
   "outputs": [
    {
     "data": {
      "image/png": "[encoded data removed]",
      "text/plain": [
       "<Figure size 432x288 with 1 Axes>"
      ]
     },
     "metadata": {
      "needs_background": "light"
     },
     "output_type": "display_data"
    }
   ],
   "source": [
    "df_sd.pivot_table(index=df_sd.index, columns='Sex', values='Rank') \\\n",
    "    .plot(kind='hist', alpha=0.7, stacked=True, title='Rank by Sex')\n",
    "plt.xticks([1, 2, 3])\n",
    "plt.xlabel('Rank')\n",
    "plt.ylabel('Faculty')\n",
    "plt.show()"
   ]
  },
  {
   "cell_type": "code",
   "execution_count": 67,
   "metadata": {
    "colab": {
     "base_uri": "https://localhost:8080/",
     "height": 295
    },
    "id": "dtqeey4gPGHA",
    "outputId": "4772f74c-fd58-4dd8-c9c8-fc9a71ed7ef2"
   },
   "outputs": [
    {
     "data": {
      "image/png": "[encoded data removed]",
      "text/plain": [
       "<Figure size 432x288 with 1 Axes>"
      ]
     },
     "metadata": {
      "needs_background": "light"
     },
     "output_type": "display_data"
    }
   ],
   "source": [
    "df_sd.pivot_table(index=df_sd.index, columns='Sex', values='Year') \\\n",
    "    .plot(kind='hist', alpha=0.7, stacked=True, bins=12,\n",
    "          title='Years in Rank by Sex')\n",
    "plt.xlabel('Years')\n",
    "plt.ylabel('Faculty')\n",
    "plt.show()"
   ]
  },
  {
   "cell_type": "markdown",
   "metadata": {
    "id": "ouGtGSZ5PQ1Q"
   },
   "source": [
    "Let's compare the women at this university, who have only been in their current positions for a maximum of ten years, with the males, who have had the same number of years in their positions."
   ]
  },
  {
   "cell_type": "code",
   "execution_count": 68,
   "metadata": {
    "colab": {
     "base_uri": "https://localhost:8080/"
    },
    "id": "fUJverpIPSVQ",
    "outputId": "99c1ecce-2d00-4e20-9ce8-5ed36313dbdd"
   },
   "outputs": [
    {
     "data": {
      "text/plain": [
       "[(0.7968248819660304, ('Sex', 'Rank', 'Year', 'Degree', 'YSdeg')),\n",
       " (0.7872092866034841, ('Sex', 'Rank', 'Year', 'YSdeg')),\n",
       " (0.7857914167129874, ('Rank', 'Year', 'Degree', 'YSdeg')),\n",
       " (0.7812953737007232, ('Rank', 'Year', 'YSdeg')),\n",
       " (0.7811304025138202, ('Sex', 'Rank', 'Year', 'Degree')),\n",
       " (0.7809344717080977, ('Sex', 'Rank', 'Year')),\n",
       " (0.7783076155381674, ('Rank', 'Year', 'Degree')),\n",
       " (0.778125545829645, ('Rank', 'Year')),\n",
       " (0.7267866959953191, ('Sex', 'Rank', 'Degree', 'YSdeg')),\n",
       " (0.7266289950954575, ('Sex', 'Rank', 'Degree')),\n",
       " (0.7263171650507368, ('Rank', 'Degree', 'YSdeg')),\n",
       " (0.7262952984826756, ('Rank', 'Degree')),\n",
       " (0.7237917566538923, ('Sex', 'Rank', 'YSdeg')),\n",
       " (0.7237599305119999, ('Rank', 'YSdeg')),\n",
       " (0.7224004990910746, ('Sex', 'Rank')),\n",
       " (0.7221603677648399, ('Rank',)),\n",
       " (0.5211388967522836, ('Sex', 'Year', 'Degree', 'YSdeg')),\n",
       " (0.5106317178170396, ('Year', 'Degree', 'YSdeg')),\n",
       " (0.47582422204482044, ('Sex', 'Degree', 'YSdeg')),\n",
       " (0.46515893607776626, ('Sex', 'Year', 'YSdeg')),\n",
       " (0.46069130390981783, ('Year', 'YSdeg')),\n",
       " (0.4448739733320236, ('Degree', 'YSdeg')),\n",
       " (0.4042796870122093, ('Sex', 'YSdeg')),\n",
       " (0.38329194186217797, ('YSdeg',)),\n",
       " (0.3261084635012448, ('Sex', 'Year', 'Degree')),\n",
       " (0.325988256704955, ('Sex', 'Year')),\n",
       " (0.32547258856854433, ('Year', 'Degree')),\n",
       " (0.32534791979498534, ('Year',)),\n",
       " (0.019252695844517165, ('Sex', 'Degree')),\n",
       " (0.01327225187005543, ('Degree',)),\n",
       " (0.006877700561349731, ('Sex',))]"
      ]
     },
     "execution_count": 68,
     "metadata": {},
     "output_type": "execute_result"
    }
   ],
   "source": [
    "df_sd_10 = df_sd[df_sd['Year'] <= 10]\n",
    "combos_10 = get_combos(salary_discrim_cols)\n",
    "combo_10_scores = all_combo_scores(combos_10, df_sd_10)\n",
    "sorted(combo_10_scores.items(), key=lambda c: c[0], reverse=True)"
   ]
  },
  {
   "cell_type": "code",
   "execution_count": 70,
   "metadata": {
    "colab": {
     "base_uri": "https://localhost:8080/",
     "height": 295
    },
    "id": "Gzy7YS4rPinj",
    "outputId": "5942524a-1efb-40a6-ccea-ebb6be5e8076"
   },
   "outputs": [
    {
     "data": {
      "image/png": "[encoded data removed]",
      "text/plain": [
       "<Figure size 432x288 with 1 Axes>"
      ]
     },
     "metadata": {
      "needs_background": "light"
     },
     "output_type": "display_data"
    }
   ],
   "source": [
    "df_sd_10.pivot_table(index=df_sd_10.index, columns='Sex', values='Salary') \\\n",
    "    .plot(kind='hist', alpha=0.7, stacked=True, bins=20,\n",
    "          title='Salary by Sex, Max 10 Years at Current Rank')\n",
    "plt.xlabel('Dollars')\n",
    "plt.ylabel('Faculty')\n",
    "plt.show()"
   ]
  },
  {
   "cell_type": "code",
   "execution_count": 71,
   "metadata": {
    "colab": {
     "base_uri": "https://localhost:8080/",
     "height": 295
    },
    "id": "fbNpWbKyPlj1",
    "outputId": "cfe69e65-3ebf-4b9d-c45e-253dd70df9be"
   },
   "outputs": [
    {
     "data": {
      "image/png": "[encoded data removed]",
      "text/plain": [
       "<Figure size 432x288 with 1 Axes>"
      ]
     },
     "metadata": {
      "needs_background": "light"
     },
     "output_type": "display_data"
    }
   ],
   "source": [
    "df_sd_10.pivot_table(index=df_sd_10.index, columns='Sex', values='Rank') \\\n",
    "    .plot(kind='hist', alpha=0.7, stacked=True, \n",
    "          title='Rank by Sex, Max 10 Years at Current Rank')\n",
    "plt.xticks([1,2,3])\n",
    "plt.xlabel('Dollars')\n",
    "plt.ylabel('Faculty')\n",
    "plt.show()"
   ]
  },
  {
   "cell_type": "code",
   "execution_count": 72,
   "metadata": {
    "colab": {
     "base_uri": "https://localhost:8080/"
    },
    "id": "ZiGSawbFPpzE",
    "outputId": "f798a1b8-a696-45e0-c6a2-07f1d5924f8e"
   },
   "outputs": [
    {
     "data": {
      "text/plain": [
       "[(0.6684776318082726, ('Sex', 'Year', 'Degree', 'YSdeg')),\n",
       " (0.6650836168279376, ('Sex', 'Degree', 'YSdeg')),\n",
       " (0.6123237979933462, ('Year', 'Degree', 'YSdeg')),\n",
       " (0.6121040013037697, ('Degree', 'YSdeg')),\n",
       " (0.5169568608935469, ('Sex', 'Year', 'YSdeg')),\n",
       " (0.5169178279759162, ('Sex', 'YSdeg')),\n",
       " (0.4848731472423391, ('Year', 'YSdeg')),\n",
       " (0.48257642674080226, ('YSdeg',)),\n",
       " (0.17754355818252243, ('Sex', 'Year', 'Degree')),\n",
       " (0.17641648396278564, ('Sex', 'Year')),\n",
       " (0.1761306214861189, ('Year', 'Degree')),\n",
       " (0.17502353196257248, ('Year',)),\n",
       " (0.016344674690073613, ('Sex', 'Degree')),\n",
       " (0.013387066889012145, ('Sex',)),\n",
       " (0.0036042103162727823, ('Degree',))]"
      ]
     },
     "execution_count": 72,
     "metadata": {},
     "output_type": "execute_result"
    }
   ],
   "source": [
    "rank_discrim_cols = ['Sex', 'Year', 'Degree', 'YSdeg']\n",
    "combos_rank = get_combos(rank_discrim_cols)\n",
    "combo_rank_scores = all_combo_scores(combos_rank, df_sd_10, 'Rank')\n",
    "sorted(combo_rank_scores.items(), key=lambda c: c[0], reverse=True)"
   ]
  },
  {
   "cell_type": "markdown",
   "metadata": {
    "id": "evetE5rCPuNy"
   },
   "source": [
    "Even looking at the influencers of Rank, looking only at those who have been at their present rank for 10 years or less, there is no correlation with Sex. There is no salary discrimination by Sex."
   ]
  }
 ],
 "metadata": {
  "colab": {
   "provenance": []
  },
  "kernelspec": {
   "display_name": "Python 3 (ipykernel)",
   "language": "python",
   "name": "python3"
  },
  "language_info": {
   "codemirror_mode": {
    "name": "ipython",
    "version": 3
   },
   "file_extension": ".py",
   "mimetype": "text/x-python",
   "name": "python",
   "nbconvert_exporter": "python",
   "pygments_lexer": "ipython3",
   "version": "3.9.12"
  }
 },
 "nbformat": 4,
 "nbformat_minor": 1
}
